{
 "cells": [
  {
   "cell_type": "markdown",
   "id": "c078b4a0",
   "metadata": {},
   "source": [
    "# Ánalise da base de dados"
   ]
  },
  {
   "cell_type": "code",
   "execution_count": 1,
   "id": "c85892bc",
   "metadata": {},
   "outputs": [],
   "source": [
    "import pandas as pd\n",
    "import numpy as np\n",
    "import matplotlib.pyplot as plt\n",
    "import seaborn as sns"
   ]
  },
  {
   "cell_type": "code",
   "execution_count": 2,
   "id": "f5409b0c",
   "metadata": {},
   "outputs": [
    {
     "data": {
      "text/html": [
       "<div>\n",
       "<style scoped>\n",
       "    .dataframe tbody tr th:only-of-type {\n",
       "        vertical-align: middle;\n",
       "    }\n",
       "\n",
       "    .dataframe tbody tr th {\n",
       "        vertical-align: top;\n",
       "    }\n",
       "\n",
       "    .dataframe thead th {\n",
       "        text-align: right;\n",
       "    }\n",
       "</style>\n",
       "<table border=\"1\" class=\"dataframe\">\n",
       "  <thead>\n",
       "    <tr style=\"text-align: right;\">\n",
       "      <th></th>\n",
       "      <th>ID</th>\n",
       "      <th>Name</th>\n",
       "      <th>FullName</th>\n",
       "      <th>Age</th>\n",
       "      <th>Height</th>\n",
       "      <th>Weight</th>\n",
       "      <th>PhotoUrl</th>\n",
       "      <th>Nationality</th>\n",
       "      <th>Overall</th>\n",
       "      <th>Potential</th>\n",
       "      <th>...</th>\n",
       "      <th>LMRating</th>\n",
       "      <th>CMRating</th>\n",
       "      <th>RMRating</th>\n",
       "      <th>LWBRating</th>\n",
       "      <th>CDMRating</th>\n",
       "      <th>RWBRating</th>\n",
       "      <th>LBRating</th>\n",
       "      <th>CBRating</th>\n",
       "      <th>RBRating</th>\n",
       "      <th>GKRating</th>\n",
       "    </tr>\n",
       "  </thead>\n",
       "  <tbody>\n",
       "    <tr>\n",
       "      <th>0</th>\n",
       "      <td>158023</td>\n",
       "      <td>L. Messi</td>\n",
       "      <td>Lionel Messi</td>\n",
       "      <td>34</td>\n",
       "      <td>170</td>\n",
       "      <td>72</td>\n",
       "      <td>https://cdn.sofifa.com/players/158/023/22_60.png</td>\n",
       "      <td>Argentina</td>\n",
       "      <td>93</td>\n",
       "      <td>93</td>\n",
       "      <td>...</td>\n",
       "      <td>93</td>\n",
       "      <td>90</td>\n",
       "      <td>93</td>\n",
       "      <td>69</td>\n",
       "      <td>67</td>\n",
       "      <td>69</td>\n",
       "      <td>64</td>\n",
       "      <td>53</td>\n",
       "      <td>64</td>\n",
       "      <td>22</td>\n",
       "    </tr>\n",
       "    <tr>\n",
       "      <th>1</th>\n",
       "      <td>188545</td>\n",
       "      <td>R. Lewandowski</td>\n",
       "      <td>Robert Lewandowski</td>\n",
       "      <td>32</td>\n",
       "      <td>185</td>\n",
       "      <td>81</td>\n",
       "      <td>https://cdn.sofifa.com/players/188/545/22_60.png</td>\n",
       "      <td>Poland</td>\n",
       "      <td>92</td>\n",
       "      <td>92</td>\n",
       "      <td>...</td>\n",
       "      <td>87</td>\n",
       "      <td>83</td>\n",
       "      <td>87</td>\n",
       "      <td>67</td>\n",
       "      <td>69</td>\n",
       "      <td>67</td>\n",
       "      <td>64</td>\n",
       "      <td>63</td>\n",
       "      <td>64</td>\n",
       "      <td>22</td>\n",
       "    </tr>\n",
       "    <tr>\n",
       "      <th>2</th>\n",
       "      <td>231747</td>\n",
       "      <td>K. Mbappé</td>\n",
       "      <td>Kylian Mbappé</td>\n",
       "      <td>22</td>\n",
       "      <td>182</td>\n",
       "      <td>73</td>\n",
       "      <td>https://cdn.sofifa.com/players/231/747/22_60.png</td>\n",
       "      <td>France</td>\n",
       "      <td>91</td>\n",
       "      <td>95</td>\n",
       "      <td>...</td>\n",
       "      <td>92</td>\n",
       "      <td>84</td>\n",
       "      <td>92</td>\n",
       "      <td>70</td>\n",
       "      <td>66</td>\n",
       "      <td>70</td>\n",
       "      <td>66</td>\n",
       "      <td>57</td>\n",
       "      <td>66</td>\n",
       "      <td>21</td>\n",
       "    </tr>\n",
       "    <tr>\n",
       "      <th>3</th>\n",
       "      <td>200389</td>\n",
       "      <td>J. Oblak</td>\n",
       "      <td>Jan Oblak</td>\n",
       "      <td>28</td>\n",
       "      <td>188</td>\n",
       "      <td>87</td>\n",
       "      <td>https://cdn.sofifa.com/players/200/389/22_60.png</td>\n",
       "      <td>Slovenia</td>\n",
       "      <td>91</td>\n",
       "      <td>93</td>\n",
       "      <td>...</td>\n",
       "      <td>38</td>\n",
       "      <td>41</td>\n",
       "      <td>38</td>\n",
       "      <td>35</td>\n",
       "      <td>39</td>\n",
       "      <td>35</td>\n",
       "      <td>35</td>\n",
       "      <td>36</td>\n",
       "      <td>35</td>\n",
       "      <td>92</td>\n",
       "    </tr>\n",
       "    <tr>\n",
       "      <th>4</th>\n",
       "      <td>192985</td>\n",
       "      <td>K. De Bruyne</td>\n",
       "      <td>Kevin De Bruyne</td>\n",
       "      <td>30</td>\n",
       "      <td>181</td>\n",
       "      <td>70</td>\n",
       "      <td>https://cdn.sofifa.com/players/192/985/22_60.png</td>\n",
       "      <td>Belgium</td>\n",
       "      <td>91</td>\n",
       "      <td>91</td>\n",
       "      <td>...</td>\n",
       "      <td>91</td>\n",
       "      <td>91</td>\n",
       "      <td>91</td>\n",
       "      <td>82</td>\n",
       "      <td>83</td>\n",
       "      <td>82</td>\n",
       "      <td>78</td>\n",
       "      <td>72</td>\n",
       "      <td>78</td>\n",
       "      <td>24</td>\n",
       "    </tr>\n",
       "    <tr>\n",
       "      <th>5</th>\n",
       "      <td>190871</td>\n",
       "      <td>Neymar Jr</td>\n",
       "      <td>Neymar da Silva Santos Jr.</td>\n",
       "      <td>29</td>\n",
       "      <td>175</td>\n",
       "      <td>68</td>\n",
       "      <td>https://cdn.sofifa.com/players/190/871/22_60.png</td>\n",
       "      <td>Brazil</td>\n",
       "      <td>91</td>\n",
       "      <td>91</td>\n",
       "      <td>...</td>\n",
       "      <td>91</td>\n",
       "      <td>85</td>\n",
       "      <td>91</td>\n",
       "      <td>70</td>\n",
       "      <td>66</td>\n",
       "      <td>70</td>\n",
       "      <td>65</td>\n",
       "      <td>53</td>\n",
       "      <td>65</td>\n",
       "      <td>23</td>\n",
       "    </tr>\n",
       "    <tr>\n",
       "      <th>6</th>\n",
       "      <td>20801</td>\n",
       "      <td>Cristiano Ronaldo</td>\n",
       "      <td>C. Ronaldo dos Santos Aveiro</td>\n",
       "      <td>36</td>\n",
       "      <td>187</td>\n",
       "      <td>83</td>\n",
       "      <td>https://cdn.sofifa.com/players/020/801/22_60.png</td>\n",
       "      <td>Portugal</td>\n",
       "      <td>91</td>\n",
       "      <td>91</td>\n",
       "      <td>...</td>\n",
       "      <td>89</td>\n",
       "      <td>81</td>\n",
       "      <td>89</td>\n",
       "      <td>66</td>\n",
       "      <td>62</td>\n",
       "      <td>66</td>\n",
       "      <td>63</td>\n",
       "      <td>56</td>\n",
       "      <td>63</td>\n",
       "      <td>23</td>\n",
       "    </tr>\n",
       "    <tr>\n",
       "      <th>7</th>\n",
       "      <td>215914</td>\n",
       "      <td>N. Kanté</td>\n",
       "      <td>N'Golo Kanté</td>\n",
       "      <td>30</td>\n",
       "      <td>168</td>\n",
       "      <td>70</td>\n",
       "      <td>https://cdn.sofifa.com/players/215/914/22_60.png</td>\n",
       "      <td>France</td>\n",
       "      <td>90</td>\n",
       "      <td>90</td>\n",
       "      <td>...</td>\n",
       "      <td>82</td>\n",
       "      <td>85</td>\n",
       "      <td>82</td>\n",
       "      <td>88</td>\n",
       "      <td>90</td>\n",
       "      <td>88</td>\n",
       "      <td>88</td>\n",
       "      <td>87</td>\n",
       "      <td>88</td>\n",
       "      <td>23</td>\n",
       "    </tr>\n",
       "    <tr>\n",
       "      <th>8</th>\n",
       "      <td>202126</td>\n",
       "      <td>H. Kane</td>\n",
       "      <td>Harry Kane</td>\n",
       "      <td>27</td>\n",
       "      <td>188</td>\n",
       "      <td>89</td>\n",
       "      <td>https://cdn.sofifa.com/players/202/126/22_60.png</td>\n",
       "      <td>England</td>\n",
       "      <td>90</td>\n",
       "      <td>90</td>\n",
       "      <td>...</td>\n",
       "      <td>87</td>\n",
       "      <td>85</td>\n",
       "      <td>87</td>\n",
       "      <td>70</td>\n",
       "      <td>71</td>\n",
       "      <td>70</td>\n",
       "      <td>67</td>\n",
       "      <td>64</td>\n",
       "      <td>67</td>\n",
       "      <td>23</td>\n",
       "    </tr>\n",
       "    <tr>\n",
       "      <th>9</th>\n",
       "      <td>192448</td>\n",
       "      <td>M. ter Stegen</td>\n",
       "      <td>Marc-André ter Stegen</td>\n",
       "      <td>29</td>\n",
       "      <td>187</td>\n",
       "      <td>85</td>\n",
       "      <td>https://cdn.sofifa.com/players/192/448/22_60.png</td>\n",
       "      <td>Germany</td>\n",
       "      <td>90</td>\n",
       "      <td>92</td>\n",
       "      <td>...</td>\n",
       "      <td>42</td>\n",
       "      <td>48</td>\n",
       "      <td>42</td>\n",
       "      <td>36</td>\n",
       "      <td>44</td>\n",
       "      <td>36</td>\n",
       "      <td>34</td>\n",
       "      <td>36</td>\n",
       "      <td>34</td>\n",
       "      <td>91</td>\n",
       "    </tr>\n",
       "  </tbody>\n",
       "</table>\n",
       "<p>10 rows × 90 columns</p>\n",
       "</div>"
      ],
      "text/plain": [
       "       ID               Name                      FullName  Age  Height  \\\n",
       "0  158023           L. Messi                  Lionel Messi   34     170   \n",
       "1  188545     R. Lewandowski            Robert Lewandowski   32     185   \n",
       "2  231747          K. Mbappé                 Kylian Mbappé   22     182   \n",
       "3  200389           J. Oblak                     Jan Oblak   28     188   \n",
       "4  192985       K. De Bruyne               Kevin De Bruyne   30     181   \n",
       "5  190871          Neymar Jr    Neymar da Silva Santos Jr.   29     175   \n",
       "6   20801  Cristiano Ronaldo  C. Ronaldo dos Santos Aveiro   36     187   \n",
       "7  215914           N. Kanté                  N'Golo Kanté   30     168   \n",
       "8  202126            H. Kane                    Harry Kane   27     188   \n",
       "9  192448      M. ter Stegen         Marc-André ter Stegen   29     187   \n",
       "\n",
       "   Weight                                          PhotoUrl Nationality  \\\n",
       "0      72  https://cdn.sofifa.com/players/158/023/22_60.png   Argentina   \n",
       "1      81  https://cdn.sofifa.com/players/188/545/22_60.png      Poland   \n",
       "2      73  https://cdn.sofifa.com/players/231/747/22_60.png      France   \n",
       "3      87  https://cdn.sofifa.com/players/200/389/22_60.png    Slovenia   \n",
       "4      70  https://cdn.sofifa.com/players/192/985/22_60.png     Belgium   \n",
       "5      68  https://cdn.sofifa.com/players/190/871/22_60.png      Brazil   \n",
       "6      83  https://cdn.sofifa.com/players/020/801/22_60.png    Portugal   \n",
       "7      70  https://cdn.sofifa.com/players/215/914/22_60.png      France   \n",
       "8      89  https://cdn.sofifa.com/players/202/126/22_60.png     England   \n",
       "9      85  https://cdn.sofifa.com/players/192/448/22_60.png     Germany   \n",
       "\n",
       "   Overall  Potential  ...  LMRating  CMRating  RMRating LWBRating CDMRating  \\\n",
       "0       93         93  ...        93        90        93        69        67   \n",
       "1       92         92  ...        87        83        87        67        69   \n",
       "2       91         95  ...        92        84        92        70        66   \n",
       "3       91         93  ...        38        41        38        35        39   \n",
       "4       91         91  ...        91        91        91        82        83   \n",
       "5       91         91  ...        91        85        91        70        66   \n",
       "6       91         91  ...        89        81        89        66        62   \n",
       "7       90         90  ...        82        85        82        88        90   \n",
       "8       90         90  ...        87        85        87        70        71   \n",
       "9       90         92  ...        42        48        42        36        44   \n",
       "\n",
       "  RWBRating  LBRating  CBRating  RBRating GKRating  \n",
       "0        69        64        53        64       22  \n",
       "1        67        64        63        64       22  \n",
       "2        70        66        57        66       21  \n",
       "3        35        35        36        35       92  \n",
       "4        82        78        72        78       24  \n",
       "5        70        65        53        65       23  \n",
       "6        66        63        56        63       23  \n",
       "7        88        88        87        88       23  \n",
       "8        70        67        64        67       23  \n",
       "9        36        34        36        34       91  \n",
       "\n",
       "[10 rows x 90 columns]"
      ]
     },
     "execution_count": 2,
     "metadata": {},
     "output_type": "execute_result"
    }
   ],
   "source": [
    "original_df = pd.read_csv(\"C:/players_fifa22.csv\", sep=',', low_memory=False)\n",
    "original_df.head(10)"
   ]
  },
  {
   "cell_type": "markdown",
   "id": "c639dcc4",
   "metadata": {},
   "source": [
    "## Pré-processamento"
   ]
  },
  {
   "cell_type": "markdown",
   "id": "ef5be688",
   "metadata": {},
   "source": [
    "### Número de linhas e colunas"
   ]
  },
  {
   "cell_type": "code",
   "execution_count": 3,
   "id": "db3f8f18",
   "metadata": {},
   "outputs": [
    {
     "data": {
      "text/plain": [
       "(19248, 90)"
      ]
     },
     "execution_count": 3,
     "metadata": {},
     "output_type": "execute_result"
    }
   ],
   "source": [
    "original_df.shape"
   ]
  },
  {
   "cell_type": "markdown",
   "id": "416d386a",
   "metadata": {},
   "source": [
    "### Tratando os dados"
   ]
  },
  {
   "cell_type": "code",
   "execution_count": 4,
   "id": "2a640d02",
   "metadata": {},
   "outputs": [
    {
     "data": {
      "text/plain": [
       "ID           0\n",
       "Name         0\n",
       "FullName     0\n",
       "Age          0\n",
       "Height       0\n",
       "            ..\n",
       "RWBRating    0\n",
       "LBRating     0\n",
       "CBRating     0\n",
       "RBRating     0\n",
       "GKRating     0\n",
       "Length: 90, dtype: int64"
      ]
     },
     "execution_count": 4,
     "metadata": {},
     "output_type": "execute_result"
    }
   ],
   "source": [
    "original_df.isna().sum()"
   ]
  },
  {
   "cell_type": "markdown",
   "id": "96343989",
   "metadata": {},
   "source": [
    "*Como todas as colunas possuem valores, será filtrado apenas as principais colunas para a avaliação*"
   ]
  },
  {
   "cell_type": "code",
   "execution_count": 5,
   "id": "3eba246a",
   "metadata": {},
   "outputs": [
    {
     "data": {
      "text/html": [
       "<div>\n",
       "<style scoped>\n",
       "    .dataframe tbody tr th:only-of-type {\n",
       "        vertical-align: middle;\n",
       "    }\n",
       "\n",
       "    .dataframe tbody tr th {\n",
       "        vertical-align: top;\n",
       "    }\n",
       "\n",
       "    .dataframe thead th {\n",
       "        text-align: right;\n",
       "    }\n",
       "</style>\n",
       "<table border=\"1\" class=\"dataframe\">\n",
       "  <thead>\n",
       "    <tr style=\"text-align: right;\">\n",
       "      <th></th>\n",
       "      <th>ID</th>\n",
       "      <th>Name</th>\n",
       "      <th>FullName</th>\n",
       "      <th>Age</th>\n",
       "      <th>Height</th>\n",
       "      <th>Weight</th>\n",
       "      <th>Nationality</th>\n",
       "      <th>Overall</th>\n",
       "      <th>Potential</th>\n",
       "    </tr>\n",
       "  </thead>\n",
       "  <tbody>\n",
       "    <tr>\n",
       "      <th>0</th>\n",
       "      <td>158023</td>\n",
       "      <td>L. Messi</td>\n",
       "      <td>Lionel Messi</td>\n",
       "      <td>34</td>\n",
       "      <td>170</td>\n",
       "      <td>72</td>\n",
       "      <td>Argentina</td>\n",
       "      <td>93</td>\n",
       "      <td>93</td>\n",
       "    </tr>\n",
       "    <tr>\n",
       "      <th>1</th>\n",
       "      <td>188545</td>\n",
       "      <td>R. Lewandowski</td>\n",
       "      <td>Robert Lewandowski</td>\n",
       "      <td>32</td>\n",
       "      <td>185</td>\n",
       "      <td>81</td>\n",
       "      <td>Poland</td>\n",
       "      <td>92</td>\n",
       "      <td>92</td>\n",
       "    </tr>\n",
       "    <tr>\n",
       "      <th>2</th>\n",
       "      <td>231747</td>\n",
       "      <td>K. Mbappé</td>\n",
       "      <td>Kylian Mbappé</td>\n",
       "      <td>22</td>\n",
       "      <td>182</td>\n",
       "      <td>73</td>\n",
       "      <td>France</td>\n",
       "      <td>91</td>\n",
       "      <td>95</td>\n",
       "    </tr>\n",
       "    <tr>\n",
       "      <th>3</th>\n",
       "      <td>200389</td>\n",
       "      <td>J. Oblak</td>\n",
       "      <td>Jan Oblak</td>\n",
       "      <td>28</td>\n",
       "      <td>188</td>\n",
       "      <td>87</td>\n",
       "      <td>Slovenia</td>\n",
       "      <td>91</td>\n",
       "      <td>93</td>\n",
       "    </tr>\n",
       "    <tr>\n",
       "      <th>4</th>\n",
       "      <td>192985</td>\n",
       "      <td>K. De Bruyne</td>\n",
       "      <td>Kevin De Bruyne</td>\n",
       "      <td>30</td>\n",
       "      <td>181</td>\n",
       "      <td>70</td>\n",
       "      <td>Belgium</td>\n",
       "      <td>91</td>\n",
       "      <td>91</td>\n",
       "    </tr>\n",
       "    <tr>\n",
       "      <th>...</th>\n",
       "      <td>...</td>\n",
       "      <td>...</td>\n",
       "      <td>...</td>\n",
       "      <td>...</td>\n",
       "      <td>...</td>\n",
       "      <td>...</td>\n",
       "      <td>...</td>\n",
       "      <td>...</td>\n",
       "      <td>...</td>\n",
       "    </tr>\n",
       "    <tr>\n",
       "      <th>19243</th>\n",
       "      <td>259646</td>\n",
       "      <td>A. Shaikh</td>\n",
       "      <td>Arsh Shaikh</td>\n",
       "      <td>18</td>\n",
       "      <td>186</td>\n",
       "      <td>74</td>\n",
       "      <td>India</td>\n",
       "      <td>47</td>\n",
       "      <td>67</td>\n",
       "    </tr>\n",
       "    <tr>\n",
       "      <th>19244</th>\n",
       "      <td>260398</td>\n",
       "      <td>N. Saliba</td>\n",
       "      <td>Nathan-Dylan Saliba</td>\n",
       "      <td>17</td>\n",
       "      <td>173</td>\n",
       "      <td>71</td>\n",
       "      <td>Canada</td>\n",
       "      <td>47</td>\n",
       "      <td>69</td>\n",
       "    </tr>\n",
       "    <tr>\n",
       "      <th>19245</th>\n",
       "      <td>261667</td>\n",
       "      <td>M. O'Brien</td>\n",
       "      <td>Matthew O'Brien</td>\n",
       "      <td>18</td>\n",
       "      <td>176</td>\n",
       "      <td>71</td>\n",
       "      <td>Republic of Ireland</td>\n",
       "      <td>47</td>\n",
       "      <td>61</td>\n",
       "    </tr>\n",
       "    <tr>\n",
       "      <th>19246</th>\n",
       "      <td>245024</td>\n",
       "      <td>Wang Shilong</td>\n",
       "      <td>Shilong Wang</td>\n",
       "      <td>20</td>\n",
       "      <td>177</td>\n",
       "      <td>64</td>\n",
       "      <td>China PR</td>\n",
       "      <td>47</td>\n",
       "      <td>60</td>\n",
       "    </tr>\n",
       "    <tr>\n",
       "      <th>19247</th>\n",
       "      <td>259737</td>\n",
       "      <td>H. Singh</td>\n",
       "      <td>Haobam Singh</td>\n",
       "      <td>18</td>\n",
       "      <td>170</td>\n",
       "      <td>62</td>\n",
       "      <td>India</td>\n",
       "      <td>47</td>\n",
       "      <td>64</td>\n",
       "    </tr>\n",
       "  </tbody>\n",
       "</table>\n",
       "<p>19248 rows × 9 columns</p>\n",
       "</div>"
      ],
      "text/plain": [
       "           ID            Name             FullName  Age  Height  Weight  \\\n",
       "0      158023        L. Messi         Lionel Messi   34     170      72   \n",
       "1      188545  R. Lewandowski   Robert Lewandowski   32     185      81   \n",
       "2      231747       K. Mbappé        Kylian Mbappé   22     182      73   \n",
       "3      200389        J. Oblak            Jan Oblak   28     188      87   \n",
       "4      192985    K. De Bruyne      Kevin De Bruyne   30     181      70   \n",
       "...       ...             ...                  ...  ...     ...     ...   \n",
       "19243  259646       A. Shaikh          Arsh Shaikh   18     186      74   \n",
       "19244  260398       N. Saliba  Nathan-Dylan Saliba   17     173      71   \n",
       "19245  261667      M. O'Brien      Matthew O'Brien   18     176      71   \n",
       "19246  245024    Wang Shilong         Shilong Wang   20     177      64   \n",
       "19247  259737        H. Singh         Haobam Singh   18     170      62   \n",
       "\n",
       "               Nationality  Overall  Potential  \n",
       "0                Argentina       93         93  \n",
       "1                   Poland       92         92  \n",
       "2                   France       91         95  \n",
       "3                 Slovenia       91         93  \n",
       "4                  Belgium       91         91  \n",
       "...                    ...      ...        ...  \n",
       "19243                India       47         67  \n",
       "19244               Canada       47         69  \n",
       "19245  Republic of Ireland       47         61  \n",
       "19246             China PR       47         60  \n",
       "19247                India       47         64  \n",
       "\n",
       "[19248 rows x 9 columns]"
      ]
     },
     "execution_count": 5,
     "metadata": {},
     "output_type": "execute_result"
    }
   ],
   "source": [
    "df_semPhotoUrl = original_df.drop(columns=['PhotoUrl'])\n",
    "lista = list()\n",
    "for i in range(10, 90):\n",
    "    lista.append(i)\n",
    "df_Tratado = df_semPhotoUrl.drop(original_df.columns[lista], axis = 1)\n",
    "df_Tratado"
   ]
  },
  {
   "cell_type": "markdown",
   "id": "54f107a0",
   "metadata": {},
   "source": [
    "### Média geral dos dados dos jogadores"
   ]
  },
  {
   "cell_type": "code",
   "execution_count": 6,
   "id": "2aed0679",
   "metadata": {},
   "outputs": [
    {
     "data": {
      "text/plain": [
       "ID           231630.754104\n",
       "Age              25.187448\n",
       "Height          181.298732\n",
       "Weight           74.932980\n",
       "Overall          65.769223\n",
       "Potential        71.097672\n",
       "dtype: float64"
      ]
     },
     "execution_count": 6,
     "metadata": {},
     "output_type": "execute_result"
    }
   ],
   "source": [
    "df_Tratado.mean()"
   ]
  },
  {
   "cell_type": "markdown",
   "id": "1218f92b",
   "metadata": {},
   "source": [
    "### Descrição das colunas do df"
   ]
  },
  {
   "cell_type": "code",
   "execution_count": 7,
   "id": "e1f76418",
   "metadata": {},
   "outputs": [
    {
     "name": "stdout",
     "output_type": "stream",
     "text": [
      "                  ID           Age        Height        Weight       Overall  \\\n",
      "count   19248.000000  19248.000000  19248.000000  19248.000000  19248.000000   \n",
      "mean   231630.754104     25.187448    181.298732     74.932980     65.769223   \n",
      "std     26965.924999      4.741172      6.864581      7.071375      6.880452   \n",
      "min        41.000000     16.000000    155.000000     49.000000     47.000000   \n",
      "25%    214762.500000     21.000000    176.000000     70.000000     61.000000   \n",
      "50%    236722.000000     25.000000    181.000000     75.000000     66.000000   \n",
      "75%    253558.250000     29.000000    186.000000     80.000000     70.000000   \n",
      "max    264640.000000     54.000000    206.000000    110.000000     93.000000   \n",
      "\n",
      "          Potential  \n",
      "count  19248.000000  \n",
      "mean      71.097672  \n",
      "std        6.113118  \n",
      "min       49.000000  \n",
      "25%       67.000000  \n",
      "50%       71.000000  \n",
      "75%       75.000000  \n",
      "max       95.000000  \n"
     ]
    }
   ],
   "source": [
    "print(df_Tratado.describe())"
   ]
  },
  {
   "cell_type": "markdown",
   "id": "8381b688",
   "metadata": {},
   "source": [
    "## Correlação dos dados"
   ]
  },
  {
   "cell_type": "code",
   "execution_count": 8,
   "id": "0fd7165d",
   "metadata": {},
   "outputs": [
    {
     "data": {
      "text/html": [
       "<div>\n",
       "<style scoped>\n",
       "    .dataframe tbody tr th:only-of-type {\n",
       "        vertical-align: middle;\n",
       "    }\n",
       "\n",
       "    .dataframe tbody tr th {\n",
       "        vertical-align: top;\n",
       "    }\n",
       "\n",
       "    .dataframe thead th {\n",
       "        text-align: right;\n",
       "    }\n",
       "</style>\n",
       "<table border=\"1\" class=\"dataframe\">\n",
       "  <thead>\n",
       "    <tr style=\"text-align: right;\">\n",
       "      <th></th>\n",
       "      <th>ID</th>\n",
       "      <th>Age</th>\n",
       "      <th>Height</th>\n",
       "      <th>Weight</th>\n",
       "      <th>Overall</th>\n",
       "      <th>Potential</th>\n",
       "    </tr>\n",
       "  </thead>\n",
       "  <tbody>\n",
       "    <tr>\n",
       "      <th>ID</th>\n",
       "      <td>1.000000</td>\n",
       "      <td>-0.780028</td>\n",
       "      <td>-0.099566</td>\n",
       "      <td>-0.207122</td>\n",
       "      <td>-0.485677</td>\n",
       "      <td>0.042848</td>\n",
       "    </tr>\n",
       "    <tr>\n",
       "      <th>Age</th>\n",
       "      <td>-0.780028</td>\n",
       "      <td>1.000000</td>\n",
       "      <td>0.082457</td>\n",
       "      <td>0.239138</td>\n",
       "      <td>0.453661</td>\n",
       "      <td>-0.269191</td>\n",
       "    </tr>\n",
       "    <tr>\n",
       "      <th>Height</th>\n",
       "      <td>-0.099566</td>\n",
       "      <td>0.082457</td>\n",
       "      <td>1.000000</td>\n",
       "      <td>0.765578</td>\n",
       "      <td>0.043019</td>\n",
       "      <td>0.004913</td>\n",
       "    </tr>\n",
       "    <tr>\n",
       "      <th>Weight</th>\n",
       "      <td>-0.207122</td>\n",
       "      <td>0.239138</td>\n",
       "      <td>0.765578</td>\n",
       "      <td>1.000000</td>\n",
       "      <td>0.148889</td>\n",
       "      <td>-0.017880</td>\n",
       "    </tr>\n",
       "    <tr>\n",
       "      <th>Overall</th>\n",
       "      <td>-0.485677</td>\n",
       "      <td>0.453661</td>\n",
       "      <td>0.043019</td>\n",
       "      <td>0.148889</td>\n",
       "      <td>1.000000</td>\n",
       "      <td>0.645638</td>\n",
       "    </tr>\n",
       "    <tr>\n",
       "      <th>Potential</th>\n",
       "      <td>0.042848</td>\n",
       "      <td>-0.269191</td>\n",
       "      <td>0.004913</td>\n",
       "      <td>-0.017880</td>\n",
       "      <td>0.645638</td>\n",
       "      <td>1.000000</td>\n",
       "    </tr>\n",
       "  </tbody>\n",
       "</table>\n",
       "</div>"
      ],
      "text/plain": [
       "                 ID       Age    Height    Weight   Overall  Potential\n",
       "ID         1.000000 -0.780028 -0.099566 -0.207122 -0.485677   0.042848\n",
       "Age       -0.780028  1.000000  0.082457  0.239138  0.453661  -0.269191\n",
       "Height    -0.099566  0.082457  1.000000  0.765578  0.043019   0.004913\n",
       "Weight    -0.207122  0.239138  0.765578  1.000000  0.148889  -0.017880\n",
       "Overall   -0.485677  0.453661  0.043019  0.148889  1.000000   0.645638\n",
       "Potential  0.042848 -0.269191  0.004913 -0.017880  0.645638   1.000000"
      ]
     },
     "execution_count": 8,
     "metadata": {},
     "output_type": "execute_result"
    }
   ],
   "source": [
    "df_Tratado.corr()"
   ]
  },
  {
   "cell_type": "code",
   "execution_count": 9,
   "id": "908d4ac6",
   "metadata": {},
   "outputs": [
    {
     "data": {
      "text/plain": [
       "<AxesSubplot:>"
      ]
     },
     "execution_count": 9,
     "metadata": {},
     "output_type": "execute_result"
    },
    {
     "data": {
      "image/png": "[encoded data removed]",
      "text/plain": [
       "<Figure size 1080x576 with 1 Axes>"
      ]
     },
     "metadata": {
      "needs_background": "light"
     },
     "output_type": "display_data"
    }
   ],
   "source": [
    "fig, ax=plt.subplots(figsize=(15,8))\n",
    "plt.suptitle(\"Correlações dos atributos dos jogadores com overall acima de 90\", size=20, weight='bold')\n",
    "sns.heatmap(df_Tratado[df_Tratado['Overall'] > 90].corr(), annot=True, square=False, fmt='.3f', cbar=False)"
   ]
  },
  {
   "cell_type": "code",
   "execution_count": 10,
   "id": "de77d26f",
   "metadata": {},
   "outputs": [
    {
     "data": {
      "text/plain": [
       "<AxesSubplot:>"
      ]
     },
     "execution_count": 10,
     "metadata": {},
     "output_type": "execute_result"
    },
    {
     "data": {
      "image/png": "[encoded data removed]",
      "text/plain": [
       "<Figure size 1080x576 with 1 Axes>"
      ]
     },
     "metadata": {
      "needs_background": "light"
     },
     "output_type": "display_data"
    }
   ],
   "source": [
    "fig, ax=plt.subplots(figsize=(15,8))\n",
    "plt.suptitle(\"Correlações dos dos jogadores com potencial maior que 0.5\", size=20, weight='bold')\n",
    "sns.heatmap(df_Tratado[df_Tratado['Potential'] > 0.5].corr(), annot=True, square=False, fmt='.3f', cbar=False)"
   ]
  },
  {
   "cell_type": "markdown",
   "id": "809844a9",
   "metadata": {},
   "source": [
    "*Comparando dos dados das colunas Weight e Potential*"
   ]
  },
  {
   "cell_type": "code",
   "execution_count": 11,
   "id": "41d495a6",
   "metadata": {},
   "outputs": [
    {
     "name": "stdout",
     "output_type": "stream",
     "text": [
      "                 Name  Weight  Potential\n",
      "0            L. Messi      72         93\n",
      "1      R. Lewandowski      81         92\n",
      "2           K. Mbappé      73         95\n",
      "3            J. Oblak      87         93\n",
      "4        K. De Bruyne      70         91\n",
      "...               ...     ...        ...\n",
      "19243       A. Shaikh      74         67\n",
      "19244       N. Saliba      71         69\n",
      "19245      M. O'Brien      71         61\n",
      "19246    Wang Shilong      64         60\n",
      "19247        H. Singh      62         64\n",
      "\n",
      "[19248 rows x 3 columns]\n"
     ]
    }
   ],
   "source": [
    "df_Potential = df_Tratado.Potential\n",
    "df_Weight = df_Tratado.Weight\n",
    "df_ComparacaoWeightPotential = pd.DataFrame(df_Tratado, columns = ['Name', 'Weight', 'Potential'])\n",
    "print(df_ComparacaoWeightPotential)"
   ]
  },
  {
   "cell_type": "markdown",
   "id": "862e5525",
   "metadata": {},
   "source": [
    "*Mostrando a relação entre peso e potencial dos jogadores, geralmente quanto maior o peso do jogador menor é o seu potencial*"
   ]
  },
  {
   "cell_type": "code",
   "execution_count": 12,
   "id": "183d5cd4",
   "metadata": {},
   "outputs": [
    {
     "data": {
      "text/html": [
       "<div>\n",
       "<style scoped>\n",
       "    .dataframe tbody tr th:only-of-type {\n",
       "        vertical-align: middle;\n",
       "    }\n",
       "\n",
       "    .dataframe tbody tr th {\n",
       "        vertical-align: top;\n",
       "    }\n",
       "\n",
       "    .dataframe thead th {\n",
       "        text-align: right;\n",
       "    }\n",
       "</style>\n",
       "<table border=\"1\" class=\"dataframe\">\n",
       "  <thead>\n",
       "    <tr style=\"text-align: right;\">\n",
       "      <th></th>\n",
       "      <th>Name</th>\n",
       "      <th>Weight</th>\n",
       "      <th>Potential</th>\n",
       "    </tr>\n",
       "  </thead>\n",
       "  <tbody>\n",
       "    <tr>\n",
       "      <th>2</th>\n",
       "      <td>K. Mbappé</td>\n",
       "      <td>73</td>\n",
       "      <td>95</td>\n",
       "    </tr>\n",
       "    <tr>\n",
       "      <th>0</th>\n",
       "      <td>L. Messi</td>\n",
       "      <td>72</td>\n",
       "      <td>93</td>\n",
       "    </tr>\n",
       "    <tr>\n",
       "      <th>3</th>\n",
       "      <td>J. Oblak</td>\n",
       "      <td>87</td>\n",
       "      <td>93</td>\n",
       "    </tr>\n",
       "    <tr>\n",
       "      <th>20</th>\n",
       "      <td>G. Donnarumma</td>\n",
       "      <td>90</td>\n",
       "      <td>93</td>\n",
       "    </tr>\n",
       "    <tr>\n",
       "      <th>22</th>\n",
       "      <td>E. Haaland</td>\n",
       "      <td>94</td>\n",
       "      <td>93</td>\n",
       "    </tr>\n",
       "    <tr>\n",
       "      <th>...</th>\n",
       "      <td>...</td>\n",
       "      <td>...</td>\n",
       "      <td>...</td>\n",
       "    </tr>\n",
       "    <tr>\n",
       "      <th>19122</th>\n",
       "      <td>Tan Chun Lok</td>\n",
       "      <td>73</td>\n",
       "      <td>51</td>\n",
       "    </tr>\n",
       "    <tr>\n",
       "      <th>18913</th>\n",
       "      <td>S. Ghosh</td>\n",
       "      <td>76</td>\n",
       "      <td>51</td>\n",
       "    </tr>\n",
       "    <tr>\n",
       "      <th>19026</th>\n",
       "      <td>Song Yue</td>\n",
       "      <td>84</td>\n",
       "      <td>50</td>\n",
       "    </tr>\n",
       "    <tr>\n",
       "      <th>19130</th>\n",
       "      <td>Gao Xiang</td>\n",
       "      <td>73</td>\n",
       "      <td>49</td>\n",
       "    </tr>\n",
       "    <tr>\n",
       "      <th>19170</th>\n",
       "      <td>J. Russell</td>\n",
       "      <td>70</td>\n",
       "      <td>49</td>\n",
       "    </tr>\n",
       "  </tbody>\n",
       "</table>\n",
       "<p>19248 rows × 3 columns</p>\n",
       "</div>"
      ],
      "text/plain": [
       "                Name  Weight  Potential\n",
       "2          K. Mbappé      73         95\n",
       "0           L. Messi      72         93\n",
       "3           J. Oblak      87         93\n",
       "20     G. Donnarumma      90         93\n",
       "22        E. Haaland      94         93\n",
       "...              ...     ...        ...\n",
       "19122   Tan Chun Lok      73         51\n",
       "18913       S. Ghosh      76         51\n",
       "19026       Song Yue      84         50\n",
       "19130      Gao Xiang      73         49\n",
       "19170     J. Russell      70         49\n",
       "\n",
       "[19248 rows x 3 columns]"
      ]
     },
     "execution_count": 12,
     "metadata": {},
     "output_type": "execute_result"
    }
   ],
   "source": [
    "df_Potential_sort = df_ComparacaoWeightPotential.sort_values('Potential', ascending=False)\n",
    "df_Potential_sort"
   ]
  },
  {
   "cell_type": "code",
   "execution_count": 13,
   "id": "09bc743d",
   "metadata": {},
   "outputs": [
    {
     "data": {
      "text/html": [
       "<div>\n",
       "<style scoped>\n",
       "    .dataframe tbody tr th:only-of-type {\n",
       "        vertical-align: middle;\n",
       "    }\n",
       "\n",
       "    .dataframe tbody tr th {\n",
       "        vertical-align: top;\n",
       "    }\n",
       "\n",
       "    .dataframe thead th {\n",
       "        text-align: right;\n",
       "    }\n",
       "</style>\n",
       "<table border=\"1\" class=\"dataframe\">\n",
       "  <thead>\n",
       "    <tr style=\"text-align: right;\">\n",
       "      <th></th>\n",
       "      <th>Name</th>\n",
       "      <th>Weight</th>\n",
       "      <th>Potential</th>\n",
       "    </tr>\n",
       "  </thead>\n",
       "  <tbody>\n",
       "    <tr>\n",
       "      <th>10203</th>\n",
       "      <td>A. Akinfenwa</td>\n",
       "      <td>110</td>\n",
       "      <td>65</td>\n",
       "    </tr>\n",
       "    <tr>\n",
       "      <th>11193</th>\n",
       "      <td>C. Seitz</td>\n",
       "      <td>107</td>\n",
       "      <td>64</td>\n",
       "    </tr>\n",
       "    <tr>\n",
       "      <th>14049</th>\n",
       "      <td>L. Watkowiak</td>\n",
       "      <td>105</td>\n",
       "      <td>67</td>\n",
       "    </tr>\n",
       "    <tr>\n",
       "      <th>7165</th>\n",
       "      <td>O. Oularé</td>\n",
       "      <td>104</td>\n",
       "      <td>71</td>\n",
       "    </tr>\n",
       "    <tr>\n",
       "      <th>1988</th>\n",
       "      <td>L. Unnerstall</td>\n",
       "      <td>103</td>\n",
       "      <td>74</td>\n",
       "    </tr>\n",
       "    <tr>\n",
       "      <th>...</th>\n",
       "      <td>...</td>\n",
       "      <td>...</td>\n",
       "      <td>...</td>\n",
       "    </tr>\n",
       "    <tr>\n",
       "      <th>7466</th>\n",
       "      <td>P. Kun</td>\n",
       "      <td>54</td>\n",
       "      <td>69</td>\n",
       "    </tr>\n",
       "    <tr>\n",
       "      <th>10623</th>\n",
       "      <td>O. Sahraoui</td>\n",
       "      <td>53</td>\n",
       "      <td>80</td>\n",
       "    </tr>\n",
       "    <tr>\n",
       "      <th>19206</th>\n",
       "      <td>B. Ganesan</td>\n",
       "      <td>52</td>\n",
       "      <td>61</td>\n",
       "    </tr>\n",
       "    <tr>\n",
       "      <th>15402</th>\n",
       "      <td>A. Organista</td>\n",
       "      <td>51</td>\n",
       "      <td>68</td>\n",
       "    </tr>\n",
       "    <tr>\n",
       "      <th>16280</th>\n",
       "      <td>N. Mehssatou</td>\n",
       "      <td>49</td>\n",
       "      <td>73</td>\n",
       "    </tr>\n",
       "  </tbody>\n",
       "</table>\n",
       "<p>19248 rows × 3 columns</p>\n",
       "</div>"
      ],
      "text/plain": [
       "                Name  Weight  Potential\n",
       "10203   A. Akinfenwa     110         65\n",
       "11193       C. Seitz     107         64\n",
       "14049   L. Watkowiak     105         67\n",
       "7165       O. Oularé     104         71\n",
       "1988   L. Unnerstall     103         74\n",
       "...              ...     ...        ...\n",
       "7466          P. Kun      54         69\n",
       "10623    O. Sahraoui      53         80\n",
       "19206     B. Ganesan      52         61\n",
       "15402   A. Organista      51         68\n",
       "16280   N. Mehssatou      49         73\n",
       "\n",
       "[19248 rows x 3 columns]"
      ]
     },
     "execution_count": 13,
     "metadata": {},
     "output_type": "execute_result"
    }
   ],
   "source": [
    "df_Weight_sort = df_ComparacaoWeightPotential.sort_values('Weight', ascending=False)\n",
    "df_Weight_sort"
   ]
  },
  {
   "cell_type": "code",
   "execution_count": 17,
   "id": "da94c0a3",
   "metadata": {},
   "outputs": [
    {
     "name": "stdout",
     "output_type": "stream",
     "text": [
      "(                Name  Weight  Potential\n",
      "2          K. Mbappé      73         95\n",
      "0           L. Messi      72         93\n",
      "3           J. Oblak      87         93\n",
      "20     G. Donnarumma      90         93\n",
      "22        E. Haaland      94         93\n",
      "...              ...     ...        ...\n",
      "19122   Tan Chun Lok      73         51\n",
      "18913       S. Ghosh      76         51\n",
      "19026       Song Yue      84         50\n",
      "19130      Gao Xiang      73         49\n",
      "19170     J. Russell      70         49\n",
      "\n",
      "[19248 rows x 3 columns],                 Name  Weight  Potential\n",
      "10203   A. Akinfenwa     110         65\n",
      "11193       C. Seitz     107         64\n",
      "14049   L. Watkowiak     105         67\n",
      "7165       O. Oularé     104         71\n",
      "1988   L. Unnerstall     103         74\n",
      "...              ...     ...        ...\n",
      "7466          P. Kun      54         69\n",
      "10623    O. Sahraoui      53         80\n",
      "19206     B. Ganesan      52         61\n",
      "15402   A. Organista      51         68\n",
      "16280   N. Mehssatou      49         73\n",
      "\n",
      "[19248 rows x 3 columns])\n"
     ]
    }
   ],
   "source": [
    "df_PotentialWeight = (df_Potential_sort, df_Weight_sort)\n",
    "print(df_PotentialWeight)"
   ]
  },
  {
   "cell_type": "markdown",
   "id": "8567ae62",
   "metadata": {},
   "source": [
    "## Gráficos Boxplot separados das duas colunas relacionadas"
   ]
  },
  {
   "cell_type": "code",
   "execution_count": 22,
   "id": "e4fae199",
   "metadata": {},
   "outputs": [
    {
     "name": "stderr",
     "output_type": "stream",
     "text": [
      "C:\\Users\\Thayller\\anaconda3\\lib\\site-packages\\seaborn\\_decorators.py:36: FutureWarning: Pass the following variable as a keyword arg: x. From version 0.12, the only valid positional argument will be `data`, and passing other arguments without an explicit keyword will result in an error or misinterpretation.\n",
      "  warnings.warn(\n"
     ]
    },
    {
     "data": {
      "text/plain": [
       "<AxesSubplot:xlabel='Potential'>"
      ]
     },
     "execution_count": 22,
     "metadata": {},
     "output_type": "execute_result"
    },
    {
     "data": {
      "image/png": "[encoded data removed]",
      "text/plain": [
       "<Figure size 432x288 with 1 Axes>"
      ]
     },
     "metadata": {
      "needs_background": "light"
     },
     "output_type": "display_data"
    }
   ],
   "source": [
    "sns.boxplot(df_Potential)"
   ]
  },
  {
   "cell_type": "code",
   "execution_count": 23,
   "id": "7b781441",
   "metadata": {},
   "outputs": [
    {
     "name": "stderr",
     "output_type": "stream",
     "text": [
      "C:\\Users\\Thayller\\anaconda3\\lib\\site-packages\\seaborn\\_decorators.py:36: FutureWarning: Pass the following variable as a keyword arg: x. From version 0.12, the only valid positional argument will be `data`, and passing other arguments without an explicit keyword will result in an error or misinterpretation.\n",
      "  warnings.warn(\n"
     ]
    },
    {
     "data": {
      "text/plain": [
       "<AxesSubplot:xlabel='Weight'>"
      ]
     },
     "execution_count": 23,
     "metadata": {},
     "output_type": "execute_result"
    },
    {
     "data": {
      "image/png": "[encoded data removed]",
      "text/plain": [
       "<Figure size 432x288 with 1 Axes>"
      ]
     },
     "metadata": {
      "needs_background": "light"
     },
     "output_type": "display_data"
    }
   ],
   "source": [
    "sns.boxplot(df_Weight)"
   ]
  },
  {
   "cell_type": "markdown",
   "id": "18f7d432",
   "metadata": {},
   "source": [
    "Essa foi uma análise de dados simples sobre uma base de dados de jogadores de futebol."
   ]
  }
 ],
 "metadata": {
  "kernelspec": {
   "display_name": "Python 3",
   "language": "python",
   "name": "python3"
  },
  "language_info": {
   "codemirror_mode": {
    "name": "ipython",
    "version": 3
   },
   "file_extension": ".py",
   "mimetype": "text/x-python",
   "name": "python",
   "nbconvert_exporter": "python",
   "pygments_lexer": "ipython3",
   "version": "3.8.8"
  }
 },
 "nbformat": 4,
 "nbformat_minor": 5
}
